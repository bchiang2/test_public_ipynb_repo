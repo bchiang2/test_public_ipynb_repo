{
 "cells": [
  {
   "cell_type": "code",
   "execution_count": 0,
   "metadata": {
    "application/vnd.databricks.v1+cell": {
     "cellMetadata": {
      "byteLimit": 10485760,
      "rowLimit": 1000
     "nuid": "5adc4e9e-0f6c-4f3e-8494-fcc1eafd15fb",
     "showTitle": false,
     "tableResultSettingsMap": {},
     "title": ""
   "source": [
    "select\n",
    "  *\n",
    "from\n",
    "country_data\n",
    "where \n",
    "code = :param\n"
   ]
  }
 ],
 "metadata": {
  "application/vnd.databricks.v1+notebook": {
   "dashboards": [],
   "environmentMetadata": null,
   "language": "sql",
   "notebookMetadata": {
    "sqlQueryOptions": {
     "applyAutoLimit": true,
     "catalog": "main",
     "schema": "jason_messer"
    }
   },
   "notebookName": "example_2024.dbquery.ipynb",
   "widgets": {
    "param": {
     "currentValue": "USA",
     "nuid": "0806dc9a-eed9-4966-b237-61f491f8d8e5",
     "typedWidgetInfo": {
      "autoCreated": false,
      "defaultValue": "",
      "label": "param",
      "name": "param",
      "options": {
       "widgetDisplayType": "Text",
       "validationRegex": null
      },
      "parameterDataType": "String"
     },
     "widgetInfo": {
      "widgetType": "text",
      "defaultValue": "",
      "label": "param",
      "name": "param",
      "options": {
       "widgetType": "text",
       "autoCreated": false,
       "validationRegex": null
      }
     }
    }
   }
  },
  "language_info": {
   "name": "sql"
  }
 },
 "nbformat": 4,
 "nbformat_minor": 0
}
