{
 "cells": [
  {
   "cell_type": "code",
   "execution_count": 1,
   "id": "c9030dae",
   "metadata": {},
   "outputs": [
    {
     "name": "stdout",
     "output_type": "stream",
     "text": [
      "Output: 0\n",
      "Output: 1\n",
      "Output: 2\n",
      "Output: 3\n",
      "Output: 4\n",
      "Output: 5\n",
      "Output: 6\n",
      "Output: 7\n",
      "Output: 8\n",
      "Output: 9\n"
     ]
    }
   ],
   "source": [
    "for i in range(10):\n",
    "    print(f\"Output: {i}\")"
   ]
  },
  {
   "cell_type": "code",
   "execution_count": null,
   "id": "b75b3025",
   "metadata": {},
   "outputs": [],
   "source": []
  }
 ],
 "metadata": {
  "kernelspec": {
   "display_name": "Python 3 (ipykernel)",
   "language": "python",
   "name": "python3"
  },
  "language_info": {
   "codemirror_mode": {
    "name": "ipython",
    "version": 3
   },
   "file_extension": ".py",
   "mimetype": "text/x-python",
   "name": "python",
   "nbconvert_exporter": "python",
   "pygments_lexer": "ipython3",
   "version": "3.9.15"
  }
 },
 "nbformat": 4,
 "nbformat_minor": 5
}
