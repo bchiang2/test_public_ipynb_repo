{
 "cells": [
  {
   "cell_type": "code",
   "execution_count": 0,
   "metadata": {
    "application/vnd.databricks.v1+cell": {
     "cellMetadata": {
      "byteLimit": 10485760,
      "rowLimit": 1000
     },
     "inputWidgets": {},
     "nuid": "700b4a78-1fbe-4cfb-bbf0-d61c0f4b65ac",
     "showTitle": false,
     "title": ""
    }
   },
   "outputs": [],
   "source": [
    "select\n",
    "  *\n",
    "from\n",
    "country_data\n",
    "where \n",
    "code = :param\n",
    "--  add a comment"
   ]
  }
 ],
 "metadata": {
  "application/vnd.databricks.v1+notebook": {
   "dashboards": [],
   "environmentMetadata": null,
   "language": "sql",
   "notebookMetadata": {
    "pythonIndentUnit": 2,
    "sqlQueryOptions": {
     "applyAutoLimit": true,
     "catalog": "main",
     "schema": "jason_messer"
    }
   },
   "notebookName": "with params.dbquery.ipynb",
   "widgets": {
    "param": {
     "currentValue": "USA",
     "nuid": "c2be4c59-9a35-4e69-9590-2ff3a3388daa",
     "typedWidgetInfo": {
      "autoCreated": false,
      "defaultValue": "USA",
      "label": "param",
      "name": "param",
      "options": {
       "validationRegex": null,
       "widgetDisplayType": "Text"
      },
      "parameterDataType": "String"
     },
     "widgetInfo": {
      "defaultValue": "USA",
      "label": "param",
      "name": "param",
      "options": {
       "autoCreated": false,
       "validationRegex": null,
       "widgetType": "text"
      },
      "widgetType": "text"
     }
    }
   }
  },
  "language_info": {
   "name": "python"
  }
 },
 "nbformat": 4,
 "nbformat_minor": 0
}
