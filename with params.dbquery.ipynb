{
 "cells": [
  {
   "cell_type": "code",
   "execution_count": 0,
   "metadata": {
    "application/vnd.databricks.v1+cell": {
     "cellMetadata": {
      "byteLimit": 10485760,
      "rowLimit": 1000
     },
     "inputWidgets": {},
     "nuid": "700b4a78-1fbe-4cfb-bbf0-d61c0f4b65ac",
     "showTitle": false,
     "title": ""
    }
   },
   "outputs": [],
   "source": [
    "select\n",
    "  *\n",
    "from\n",
    "country_data\n",
    "where \n",
    "code = :param"
   ]
  }
 ],
 "metadata": {
  "application/vnd.databricks.v1+notebook": {
   "dashboards": [],
   "environmentMetadata": null,
   "language": "sql",
   "notebookMetadata": {
    "pythonIndentUnit": 2,
    "sqlQueryOptions": {
     "applyAutoLimit": true,
     "catalog": "main",
     "schema": "jason_messer"
    }
   },
   "notebookName": "with params.dbquery.ipynb",
   "widgets": {
    "param": {
     "currentValue": "USA",
     "nuid": "c2be4c59-9a35-4e69-9590-2ff3a3388daa",
     "typedWidgetInfo": {
      "autoCreated": false,
      "defaultValue": "USA",
      "label": "param",
      "name": "param",
      "options": {
       "widgetDisplayType": "Text",
       "validationRegex": null
      },
      "parameterDataType": "String"
     },
     "widgetInfo": {
      "widgetType": "text",
      "defaultValue": "USA",
      "label": "param",
      "name": "param",
      "options": {
       "widgetType": "text",
       "autoCreated": false,
       "validationRegex": null
      }
     }
    }
   }
  }
 },
 "nbformat": 4,
 "nbformat_minor": 0
}
