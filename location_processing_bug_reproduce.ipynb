{
 "cells": [
  {
   "cell_type": "code",
   "execution_count": 0,
   "metadata": {
    "application/vnd.databricks.v1+cell": {
     "cellMetadata": {},
     "inputWidgets": {},
     "nuid": "6f0572b6-f9c1-42e0-b9c2-a3c43a41dc45",
     "showTitle": false,
     "tableResultSettingsMap": {},
     "title": ""
    }
   },
   "outputs": [],
   "source": [
    "# Import necessary libraries\n",
    "from pyspark.sql.functions import udf\n",
    "from pyspark.sql.types import IntegerType\n",
    "import requests"
   ]
  },
  {
   "cell_type": "code",
   "execution_count": 0,
   "metadata": {
    "application/vnd.databricks.v1+cell": {
     "cellMetadata": {},
     "inputWidgets": {},
     "nuid": "14a31361-d88d-4c33-8b3d-3e6e857f697e",
     "showTitle": false,
     "tableResultSettingsMap": {},
     "title": ""
    }
   },
   "outputs": [],
   "source": [
    "# Define the function to get HTTP status code\n",
    "def get_http_status(url):\n",
    "    try:\n",
    "        return \"any response\"\n",
    "    except requests.exceptions.RequestException as e:\n",
    "        print(f\"Request failed: {e}\")\n",
    "        return None  # or return a default value like 500"
   ]
  },
  {
   "cell_type": "code",
   "execution_count": 0,
   "metadata": {
    "application/vnd.databricks.v1+cell": {
     "cellMetadata": {},
     "inputWidgets": {},
     "nuid": "4e6a1907-1a53-4da9-84ba-63482c656140",
     "showTitle": false,
     "tableResultSettingsMap": {},
     "title": ""
    }
   },
   "outputs": [],
   "source": [
    "# Register the function as a UDF\n",
    "get_http_status_udf = udf(get_http_status, IntegerType())\n",
    "\n",
    "# Example DataFrame with URLs\n",
    "urls_df = spark.createDataFrame([(\"https://www.google.com\",), (\"https://www.nonexistentwebsite.com\",)], [\"url\"])\n",
    "\n",
    "# Apply the UDF to get HTTP status codes\n",
    "result_df = urls_df.withColumn(\"http_status\", get_http_status_udf(urls_df[\"url\"]))\n",
    "\n",
    "# Show the result\n",
    "result_df.show()"
   ]
  }
 ],
 "metadata": {
  "application/vnd.databricks.v1+notebook": {
   "computePreferences": null,
   "dashboards": [],
   "environmentMetadata": null,
   "language": "python",
   "notebookMetadata": {
    "pythonIndentUnit": 4
   },
   "notebookName": "location_processing_bug_reproduce",
   "widgets": {}
  },
  "language_info": {
   "name": "python"
  }
 },
 "nbformat": 4,
 "nbformat_minor": 0
}
