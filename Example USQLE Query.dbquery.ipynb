{
 "cells": [
  {
   "cell_type": "code",
   "execution_count": 0,
   "metadata": {
    "application/vnd.databricks.v1+cell": {
     "cellMetadata": {},
     "inputWidgets": {},
     "nuid": "52f3a235-9433-4b35-9368-03b09f382ebf",
     "showTitle": false,
     "title": ""
    }
   },
   "outputs": [],
   "source": [
    "SELECT 'Hello World Some extra string' AS Message;\n",
    "\n",
    "-- reset\n",
    "-- a new demo comment"
   ]
  }
 ],
 "metadata": {
  "application/vnd.databricks.v1+notebook": {
   "dashboards": [],
   "environmentMetadata": null,
   "language": "sql",
   "notebookMetadata": {
    "pythonIndentUnit": 2,
    "sqlQueryOptions": {
     "applyAutoLimit": false,
     "catalog": "main",
     "schema": "00440198_db_1"
    }
   },
   "notebookName": "Example USQLE Query.dbquery.ipynb",
   "widgets": {}
  },
  "language_info": {
   "name": "python"
  }
 },
 "nbformat": 4,
 "nbformat_minor": 0
}
